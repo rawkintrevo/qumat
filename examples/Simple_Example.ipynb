{
  "nbformat": 4,
  "nbformat_minor": 0,
  "metadata": {
    "colab": {
      "provenance": [],
      "authorship_tag": "ABX9TyPFaHJ9bEl8NfVfWAgzp5TC",
      "include_colab_link": true
    },
    "kernelspec": {
      "name": "python3",
      "display_name": "Python 3"
    },
    "language_info": {
      "name": "python"
    }
  },
  "cells": [
    {
      "cell_type": "markdown",
      "metadata": {
        "id": "view-in-github",
        "colab_type": "text"
      },
      "source": [
        "<a href=\"https://colab.research.google.com/github/rawkintrevo/qumat/blob/main/examples/Simple_Example.ipynb\" target=\"_parent\"><img src=\"https://colab.research.google.com/assets/colab-badge.svg\" alt=\"Open In Colab\"/></a>"
      ]
    },
    {
      "cell_type": "code",
      "execution_count": 1,
      "metadata": {
        "colab": {
          "base_uri": "https://localhost:8080/"
        },
        "id": "DNPYRO3XXbNQ",
        "outputId": "edfc257f-1d22-4ea9-9edb-12906dbeede6"
      },
      "outputs": [
        {
          "output_type": "stream",
          "name": "stdout",
          "text": [
            "Collecting git+https://github.com/rawkintrevo/qumat.git\n",
            "  Cloning https://github.com/rawkintrevo/qumat.git to /tmp/pip-req-build-tx2ky6h9\n",
            "  Running command git clone --filter=blob:none --quiet https://github.com/rawkintrevo/qumat.git /tmp/pip-req-build-tx2ky6h9\n",
            "  Resolved https://github.com/rawkintrevo/qumat.git to commit 977422b4706d155c160e751ce826ec6478c1b6ad\n",
            "  Installing build dependencies ... \u001b[?25l\u001b[?25hdone\n",
            "  Getting requirements to build wheel ... \u001b[?25l\u001b[?25hdone\n",
            "  Preparing metadata (pyproject.toml) ... \u001b[?25l\u001b[?25hdone\n",
            "Collecting qiskit<0.46.0,>=0.45.1 (from qumat==0.0.1)\n",
            "  Downloading qiskit-0.45.1-py3-none-any.whl (9.6 kB)\n",
            "Collecting qiskit-aer<0.14.0,>=0.13.2 (from qumat==0.0.1)\n",
            "  Downloading qiskit_aer-0.13.2-cp310-cp310-manylinux_2_17_x86_64.manylinux2014_x86_64.whl (12.3 MB)\n",
            "\u001b[2K     \u001b[90m━━━━━━━━━━━━━━━━━━━━━━━━━━━━━━━━━━━━━━━━\u001b[0m \u001b[32m12.3/12.3 MB\u001b[0m \u001b[31m28.5 MB/s\u001b[0m eta \u001b[36m0:00:00\u001b[0m\n",
            "\u001b[?25hCollecting qiskit-terra==0.45.1 (from qiskit<0.46.0,>=0.45.1->qumat==0.0.1)\n",
            "  Downloading qiskit_terra-0.45.1-cp38-abi3-manylinux_2_17_x86_64.manylinux2014_x86_64.whl (6.3 MB)\n",
            "\u001b[2K     \u001b[90m━━━━━━━━━━━━━━━━━━━━━━━━━━━━━━━━━━━━━━━━\u001b[0m \u001b[32m6.3/6.3 MB\u001b[0m \u001b[31m41.8 MB/s\u001b[0m eta \u001b[36m0:00:00\u001b[0m\n",
            "\u001b[?25hCollecting rustworkx>=0.13.0 (from qiskit-terra==0.45.1->qiskit<0.46.0,>=0.45.1->qumat==0.0.1)\n",
            "  Downloading rustworkx-0.13.2-cp310-cp310-manylinux_2_17_x86_64.manylinux2014_x86_64.whl (2.0 MB)\n",
            "\u001b[2K     \u001b[90m━━━━━━━━━━━━━━━━━━━━━━━━━━━━━━━━━━━━━━━━\u001b[0m \u001b[32m2.0/2.0 MB\u001b[0m \u001b[31m50.8 MB/s\u001b[0m eta \u001b[36m0:00:00\u001b[0m\n",
            "\u001b[?25hRequirement already satisfied: numpy<2,>=1.17 in /usr/local/lib/python3.10/dist-packages (from qiskit-terra==0.45.1->qiskit<0.46.0,>=0.45.1->qumat==0.0.1) (1.23.5)\n",
            "Collecting ply>=3.10 (from qiskit-terra==0.45.1->qiskit<0.46.0,>=0.45.1->qumat==0.0.1)\n",
            "  Downloading ply-3.11-py2.py3-none-any.whl (49 kB)\n",
            "\u001b[2K     \u001b[90m━━━━━━━━━━━━━━━━━━━━━━━━━━━━━━━━━━━━━━━━\u001b[0m \u001b[32m49.6/49.6 kB\u001b[0m \u001b[31m4.7 MB/s\u001b[0m eta \u001b[36m0:00:00\u001b[0m\n",
            "\u001b[?25hRequirement already satisfied: psutil>=5 in /usr/local/lib/python3.10/dist-packages (from qiskit-terra==0.45.1->qiskit<0.46.0,>=0.45.1->qumat==0.0.1) (5.9.5)\n",
            "Requirement already satisfied: scipy>=1.5 in /usr/local/lib/python3.10/dist-packages (from qiskit-terra==0.45.1->qiskit<0.46.0,>=0.45.1->qumat==0.0.1) (1.11.4)\n",
            "Requirement already satisfied: sympy>=1.3 in /usr/local/lib/python3.10/dist-packages (from qiskit-terra==0.45.1->qiskit<0.46.0,>=0.45.1->qumat==0.0.1) (1.12)\n",
            "Collecting dill>=0.3 (from qiskit-terra==0.45.1->qiskit<0.46.0,>=0.45.1->qumat==0.0.1)\n",
            "  Downloading dill-0.3.7-py3-none-any.whl (115 kB)\n",
            "\u001b[2K     \u001b[90m━━━━━━━━━━━━━━━━━━━━━━━━━━━━━━━━━━━━━━━━\u001b[0m \u001b[32m115.3/115.3 kB\u001b[0m \u001b[31m11.1 MB/s\u001b[0m eta \u001b[36m0:00:00\u001b[0m\n",
            "\u001b[?25hRequirement already satisfied: python-dateutil>=2.8.0 in /usr/local/lib/python3.10/dist-packages (from qiskit-terra==0.45.1->qiskit<0.46.0,>=0.45.1->qumat==0.0.1) (2.8.2)\n",
            "Collecting stevedore>=3.0.0 (from qiskit-terra==0.45.1->qiskit<0.46.0,>=0.45.1->qumat==0.0.1)\n",
            "  Downloading stevedore-5.1.0-py3-none-any.whl (49 kB)\n",
            "\u001b[2K     \u001b[90m━━━━━━━━━━━━━━━━━━━━━━━━━━━━━━━━━━━━━━━━\u001b[0m \u001b[32m49.6/49.6 kB\u001b[0m \u001b[31m3.0 MB/s\u001b[0m eta \u001b[36m0:00:00\u001b[0m\n",
            "\u001b[?25hCollecting symengine!=0.10.0,>=0.9 (from qiskit-terra==0.45.1->qiskit<0.46.0,>=0.45.1->qumat==0.0.1)\n",
            "  Downloading symengine-0.11.0-cp310-cp310-manylinux_2_12_x86_64.manylinux2010_x86_64.whl (39.4 MB)\n",
            "\u001b[2K     \u001b[90m━━━━━━━━━━━━━━━━━━━━━━━━━━━━━━━━━━━━━━━━\u001b[0m \u001b[32m39.4/39.4 MB\u001b[0m \u001b[31m13.8 MB/s\u001b[0m eta \u001b[36m0:00:00\u001b[0m\n",
            "\u001b[?25hRequirement already satisfied: typing-extensions in /usr/local/lib/python3.10/dist-packages (from qiskit-terra==0.45.1->qiskit<0.46.0,>=0.45.1->qumat==0.0.1) (4.5.0)\n",
            "Requirement already satisfied: six>=1.5 in /usr/local/lib/python3.10/dist-packages (from python-dateutil>=2.8.0->qiskit-terra==0.45.1->qiskit<0.46.0,>=0.45.1->qumat==0.0.1) (1.16.0)\n",
            "Collecting pbr!=2.1.0,>=2.0.0 (from stevedore>=3.0.0->qiskit-terra==0.45.1->qiskit<0.46.0,>=0.45.1->qumat==0.0.1)\n",
            "  Downloading pbr-6.0.0-py2.py3-none-any.whl (107 kB)\n",
            "\u001b[2K     \u001b[90m━━━━━━━━━━━━━━━━━━━━━━━━━━━━━━━━━━━━━━━━\u001b[0m \u001b[32m107.5/107.5 kB\u001b[0m \u001b[31m7.2 MB/s\u001b[0m eta \u001b[36m0:00:00\u001b[0m\n",
            "\u001b[?25hRequirement already satisfied: mpmath>=0.19 in /usr/local/lib/python3.10/dist-packages (from sympy>=1.3->qiskit-terra==0.45.1->qiskit<0.46.0,>=0.45.1->qumat==0.0.1) (1.3.0)\n",
            "Building wheels for collected packages: qumat\n",
            "  Building wheel for qumat (pyproject.toml) ... \u001b[?25l\u001b[?25hdone\n",
            "  Created wheel for qumat: filename=qumat-0.0.1-py3-none-any.whl size=2418 sha256=f7688c9cb0a13f458a2452b40ae2de7cdec8bd6843c9ebb08b7e7665497ade99\n",
            "  Stored in directory: /tmp/pip-ephem-wheel-cache-1lby4m_i/wheels/c4/6b/e2/87e168811bc6c2562b46318ed5cae22507b8c347a86302ac4c\n",
            "Successfully built qumat\n",
            "Installing collected packages: ply, symengine, rustworkx, pbr, dill, stevedore, qiskit-terra, qiskit, qiskit-aer, qumat\n",
            "Successfully installed dill-0.3.7 pbr-6.0.0 ply-3.11 qiskit-0.45.1 qiskit-aer-0.13.2 qiskit-terra-0.45.1 qumat-0.0.1 rustworkx-0.13.2 stevedore-5.1.0 symengine-0.11.0\n"
          ]
        }
      ],
      "source": [
        "!pip install git+https://github.com/rawkintrevo/qumat.git"
      ]
    },
    {
      "cell_type": "code",
      "source": [
        "from qumat.qumat import QuMat"
      ],
      "metadata": {
        "id": "NoE9rW8CXk05"
      },
      "execution_count": 2,
      "outputs": []
    },
    {
      "cell_type": "code",
      "source": [
        "# Create an instance of QuantumComputer with a specific backend configuration\n",
        "backend_config = {\n",
        "    'backend_name': 'qiskit_simulator',  # Replace with the actual backend you want to use\n",
        "    'backend_options': {\n",
        "        'simulator_type': 'qasm_simulator',\n",
        "        'shots': 1024  # Number of shots for measurement\n",
        "    }\n",
        "}\n",
        "qumat = QuMat(backend_config)\n",
        "\n"
      ],
      "metadata": {
        "colab": {
          "base_uri": "https://localhost:8080/"
        },
        "id": "41cmxLAfaobq",
        "outputId": "3c2efca3-b991-4af1-9d52-5dda0a07605d"
      },
      "execution_count": 10,
      "outputs": [
        {
          "output_type": "execute_result",
          "data": {
            "text/plain": [
              "<qiskit.circuit.instructionset.InstructionSet at 0x7ec92030f190>"
            ]
          },
          "metadata": {},
          "execution_count": 10
        }
      ]
    },
    {
      "cell_type": "code",
      "source": [
        "# Create a quantum circuit\n",
        "quantum_circuit = qumat.create_empty_circuit(num_qubits=2)"
      ],
      "metadata": {
        "id": "35hXGZSIgMbl"
      },
      "execution_count": 11,
      "outputs": []
    },
    {
      "cell_type": "code",
      "source": [
        "# Apply quantum gates to the circuit\n",
        "qumat.apply_hadamard_gate(qubit_index=0)\n",
        "qumat.apply_cnot_gate(control_qubit_index=0, target_qubit_index=1)\n",
        "qumat.apply_pauli_x_gate(qubit_index=0)\n",
        "\n"
      ],
      "metadata": {
        "id": "YAZWNPw_gRqW"
      },
      "execution_count": 19,
      "outputs": []
    },
    {
      "cell_type": "code",
      "source": [
        "# Measure the quantum circuit\n",
        "measurement_results = qumat.circuit.measure_all()"
      ],
      "metadata": {
        "id": "jIlWy4zlg69E"
      },
      "execution_count": 21,
      "outputs": []
    },
    {
      "cell_type": "code",
      "source": [
        "# Display the measurement results\n",
        "print(\"Measurement Results:\", measurement_results)"
      ],
      "metadata": {
        "colab": {
          "base_uri": "https://localhost:8080/"
        },
        "id": "IAFlF4RJg8fe",
        "outputId": "f8583ef1-1afe-49ff-e491-f9e789d16b0a"
      },
      "execution_count": 22,
      "outputs": [
        {
          "output_type": "stream",
          "name": "stdout",
          "text": [
            "Measurement Results: None\n"
          ]
        }
      ]
    },
    {
      "cell_type": "code",
      "source": [
        "qumat.circuit.draw()"
      ],
      "metadata": {
        "colab": {
          "base_uri": "https://localhost:8080/",
          "height": 125
        },
        "id": "KpaKYIdbiwY6",
        "outputId": "d8705c60-b3d2-4071-eceb-5de72e09fef0"
      },
      "execution_count": 23,
      "outputs": [
        {
          "output_type": "execute_result",
          "data": {
            "text/plain": [
              "        ┌───┐     ┌───┐┌───┐     ┌───┐ ░ ┌─┐   \n",
              "   q_0: ┤ H ├──■──┤ X ├┤ H ├──■──┤ X ├─░─┤M├───\n",
              "        └───┘┌─┴─┐└───┘└───┘┌─┴─┐└───┘ ░ └╥┘┌─┐\n",
              "   q_1: ─────┤ X ├──────────┤ X ├──────░──╫─┤M├\n",
              "             └───┘          └───┘      ░  ║ └╥┘\n",
              "meas: 2/══════════════════════════════════╩══╩═\n",
              "                                          0  1 "
            ],
            "text/html": [
              "<pre style=\"word-wrap: normal;white-space: pre;background: #fff0;line-height: 1.1;font-family: &quot;Courier New&quot;,Courier,monospace\">        ┌───┐     ┌───┐┌───┐     ┌───┐ ░ ┌─┐   \n",
              "   q_0: ┤ H ├──■──┤ X ├┤ H ├──■──┤ X ├─░─┤M├───\n",
              "        └───┘┌─┴─┐└───┘└───┘┌─┴─┐└───┘ ░ └╥┘┌─┐\n",
              "   q_1: ─────┤ X ├──────────┤ X ├──────░──╫─┤M├\n",
              "             └───┘          └───┘      ░  ║ └╥┘\n",
              "meas: 2/══════════════════════════════════╩══╩═\n",
              "                                          0  1 </pre>"
            ]
          },
          "metadata": {},
          "execution_count": 23
        }
      ]
    },
    {
      "cell_type": "code",
      "source": [
        "from qiskit import execute\n",
        "# needs to be added as a method...\n",
        "job = execute(qumat.circuit, qumat.backend, shots=1024)  # Simulate the circuit 1024 times\n",
        "\n",
        "\n",
        "result = job.result()\n",
        "counts = result.get_counts()\n",
        "\n",
        "print(\"Measurement Results:\", counts)"
      ],
      "metadata": {
        "colab": {
          "base_uri": "https://localhost:8080/"
        },
        "id": "GnDc8YwEjK1q",
        "outputId": "671284c4-95af-4cdc-e61a-7975c80fd97e"
      },
      "execution_count": 28,
      "outputs": [
        {
          "output_type": "stream",
          "name": "stdout",
          "text": [
            "Measurement Results: {'01': 246, '11': 267, '10': 274, '00': 237}\n"
          ]
        }
      ]
    },
    {
      "cell_type": "code",
      "source": [],
      "metadata": {
        "id": "TJI-cnmkjSMK"
      },
      "execution_count": null,
      "outputs": []
    }
  ]
}